{
 "cells": [
  {
   "cell_type": "markdown",
   "metadata": {},
   "source": [
    "## Baggging and Boosting"
   ]
  },
  {
   "cell_type": "code",
   "execution_count": 2,
   "metadata": {},
   "outputs": [],
   "source": [
    "import numpy as np\n",
    "import pandas as pd\n",
    "\n",
    "from sklearn import tree\n",
    "from sklearn.tree import DecisionTreeClassifier\n",
    "from sklearn.ensemble import BaggingClassifier\n",
    "from sklearn.ensemble import AdaBoostClassifier\n",
    "\n",
    "from sklearn.model_selection import train_test_split\n",
    "from sklearn.metrics import mean_squared_error as MSE\n",
    "from sklearn.metrics import mean_absolute_error as MAE\n",
    "from sklearn.metrics import confusion_matrix\n",
    "from sklearn.metrics import classification_report\n",
    "from sklearn.metrics import accuracy_score\n",
    "\n",
    "import graphviz\n",
    "import pydotplus"
   ]
  },
  {
   "cell_type": "code",
   "execution_count": 4,
   "metadata": {},
   "outputs": [
    {
     "data": {
      "text/plain": [
       "bad loss     123\n",
       "good risk    123\n",
       "Name: risk, dtype: int64"
      ]
     },
     "execution_count": 4,
     "metadata": {},
     "output_type": "execute_result"
    }
   ],
   "source": [
    "df_risk = pd.read_csv('data/ClassifyRisk.csv', usecols=['age','marital_status','income','risk'])\n",
    "df_risk['risk'].value_counts()"
   ]
  },
  {
   "cell_type": "code",
   "execution_count": 5,
   "metadata": {},
   "outputs": [
    {
     "data": {
      "text/html": [
       "<div>\n",
       "<style scoped>\n",
       "    .dataframe tbody tr th:only-of-type {\n",
       "        vertical-align: middle;\n",
       "    }\n",
       "\n",
       "    .dataframe tbody tr th {\n",
       "        vertical-align: top;\n",
       "    }\n",
       "\n",
       "    .dataframe thead th {\n",
       "        text-align: right;\n",
       "    }\n",
       "</style>\n",
       "<table border=\"1\" class=\"dataframe\">\n",
       "  <thead>\n",
       "    <tr style=\"text-align: right;\">\n",
       "      <th></th>\n",
       "      <th>age</th>\n",
       "      <th>income</th>\n",
       "      <th>risk</th>\n",
       "      <th>marital_status_married</th>\n",
       "      <th>marital_status_other</th>\n",
       "      <th>marital_status_single</th>\n",
       "    </tr>\n",
       "  </thead>\n",
       "  <tbody>\n",
       "    <tr>\n",
       "      <th>0</th>\n",
       "      <td>34</td>\n",
       "      <td>28060.70</td>\n",
       "      <td>bad loss</td>\n",
       "      <td>0</td>\n",
       "      <td>1</td>\n",
       "      <td>0</td>\n",
       "    </tr>\n",
       "    <tr>\n",
       "      <th>1</th>\n",
       "      <td>37</td>\n",
       "      <td>28009.34</td>\n",
       "      <td>bad loss</td>\n",
       "      <td>0</td>\n",
       "      <td>1</td>\n",
       "      <td>0</td>\n",
       "    </tr>\n",
       "    <tr>\n",
       "      <th>2</th>\n",
       "      <td>29</td>\n",
       "      <td>27614.60</td>\n",
       "      <td>bad loss</td>\n",
       "      <td>0</td>\n",
       "      <td>1</td>\n",
       "      <td>0</td>\n",
       "    </tr>\n",
       "    <tr>\n",
       "      <th>3</th>\n",
       "      <td>33</td>\n",
       "      <td>27287.18</td>\n",
       "      <td>bad loss</td>\n",
       "      <td>0</td>\n",
       "      <td>1</td>\n",
       "      <td>0</td>\n",
       "    </tr>\n",
       "    <tr>\n",
       "      <th>4</th>\n",
       "      <td>39</td>\n",
       "      <td>26954.06</td>\n",
       "      <td>bad loss</td>\n",
       "      <td>0</td>\n",
       "      <td>1</td>\n",
       "      <td>0</td>\n",
       "    </tr>\n",
       "  </tbody>\n",
       "</table>\n",
       "</div>"
      ],
      "text/plain": [
       "   age    income      risk  marital_status_married  marital_status_other  \\\n",
       "0   34  28060.70  bad loss                       0                     1   \n",
       "1   37  28009.34  bad loss                       0                     1   \n",
       "2   29  27614.60  bad loss                       0                     1   \n",
       "3   33  27287.18  bad loss                       0                     1   \n",
       "4   39  26954.06  bad loss                       0                     1   \n",
       "\n",
       "   marital_status_single  \n",
       "0                      0  \n",
       "1                      0  \n",
       "2                      0  \n",
       "3                      0  \n",
       "4                      0  "
      ]
     },
     "execution_count": 5,
     "metadata": {},
     "output_type": "execute_result"
    }
   ],
   "source": [
    "df_risk = pd.get_dummies(df_risk,columns=['marital_status'],prefix=['marital_status'])\n",
    "df_risk.head()"
   ]
  },
  {
   "cell_type": "code",
   "execution_count": 6,
   "metadata": {},
   "outputs": [],
   "source": [
    "#split dataset\n",
    "X = df_risk[['age','income','marital_status_married','marital_status_other','marital_status_single']]\n",
    "y = df_risk[['risk']]\n",
    "X_train, X_test, y_train, y_test = train_test_split(X, y, random_state=0, test_size=0.3)"
   ]
  },
  {
   "cell_type": "code",
   "execution_count": 7,
   "metadata": {},
   "outputs": [],
   "source": [
    "#Tree classifier\n",
    "clf_CART = DecisionTreeClassifier(criterion='gini')\n",
    "clf_CART.fit(X_train, y_train.values.ravel())\n",
    "y_pred_CART = clf_CART.predict(X_test)"
   ]
  },
  {
   "cell_type": "code",
   "execution_count": 8,
   "metadata": {},
   "outputs": [],
   "source": [
    "#Bagging\n",
    "bag = BaggingClassifier(n_estimators=5)\n",
    "bag.fit(X_train, y_train.values.ravel())\n",
    "y_pred_bag = bag.predict(X_test)"
   ]
  },
  {
   "cell_type": "code",
   "execution_count": 9,
   "metadata": {},
   "outputs": [],
   "source": [
    "#Boosting\n",
    "ada = AdaBoostClassifier(n_estimators=5)\n",
    "ada.fit(X_train, y_train.values.ravel())\n",
    "y_pred_ada = ada.predict(X_test)"
   ]
  },
  {
   "cell_type": "code",
   "execution_count": 26,
   "metadata": {},
   "outputs": [
    {
     "name": "stdout",
     "output_type": "stream",
     "text": [
      "Confusin matrix for CART decision tree\n",
      "[[32  3]\n",
      " [ 3 36]]\n",
      "\n",
      "\n",
      "Confusin matrix for Bagging classifier\n",
      "[[33  2]\n",
      " [ 3 36]]\n",
      "\n",
      "\n",
      "Confusin matrix for AdaBoost classifier\n",
      "[[31  4]\n",
      " [ 3 36]]\n",
      "\n",
      "\n"
     ]
    }
   ],
   "source": [
    "#Comparison with confusion matrices\n",
    "print ('Confusin matrix for CART decision tree')\n",
    "print(confusion_matrix(y_test, y_pred_CART))\n",
    "print('\\n')\n",
    "print('Confusin matrix for Bagging classifier')\n",
    "print(confusion_matrix(y_test, y_pred_bag))\n",
    "print('\\n')\n",
    "print ('Confusin matrix for AdaBoost classifier')\n",
    "print(confusion_matrix(y_test, y_pred_ada))\n",
    "print('\\n')"
   ]
  },
  {
   "cell_type": "code",
   "execution_count": 24,
   "metadata": {},
   "outputs": [
    {
     "name": "stdout",
     "output_type": "stream",
     "text": [
      "Classification report for CART decision tree\n",
      "              precision    recall  f1-score   support\n",
      "\n",
      "           0       0.91      0.91      0.91        35\n",
      "           1       0.92      0.92      0.92        39\n",
      "\n",
      "    accuracy                           0.92        74\n",
      "   macro avg       0.92      0.92      0.92        74\n",
      "weighted avg       0.92      0.92      0.92        74\n",
      "\n",
      "\n",
      "\n",
      "Classification report for Bagging classifier\n",
      "              precision    recall  f1-score   support\n",
      "\n",
      "           0       0.92      0.94      0.93        35\n",
      "           1       0.95      0.92      0.94        39\n",
      "\n",
      "    accuracy                           0.93        74\n",
      "   macro avg       0.93      0.93      0.93        74\n",
      "weighted avg       0.93      0.93      0.93        74\n",
      "\n",
      "\n",
      "\n",
      "Classification report for AdaBoost classifier\n",
      "              precision    recall  f1-score   support\n",
      "\n",
      "           0       0.91      0.89      0.90        35\n",
      "           1       0.90      0.92      0.91        39\n",
      "\n",
      "    accuracy                           0.91        74\n",
      "   macro avg       0.91      0.90      0.90        74\n",
      "weighted avg       0.91      0.91      0.91        74\n",
      "\n",
      "\n",
      "\n"
     ]
    }
   ],
   "source": [
    "#Comparison of the errors of the classifier\n",
    "print ('Classification report for CART decision tree')\n",
    "print(classification_report(y_test,y_pred_CART))\n",
    "print('\\n')\n",
    "print ('Classification report for Bagging classifier')\n",
    "print(classification_report(y_test,y_pred_bag))\n",
    "print('\\n')\n",
    "print ('Classification report for AdaBoost classifier')\n",
    "print(classification_report(y_test,y_pred_ada))\n",
    "print('\\n')"
   ]
  },
  {
   "cell_type": "code",
   "execution_count": 16,
   "metadata": {},
   "outputs": [
    {
     "name": "stdout",
     "output_type": "stream",
     "text": [
      "CART overall error rate: 0.08108\n",
      "Bagging overall error rate: 0.06757\n",
      "Adaboost overall error rate: 0.09459\n",
      "\n",
      "\n"
     ]
    },
    {
     "name": "stderr",
     "output_type": "stream",
     "text": [
      "C:\\Users\\CHIT CHAT\\Anaconda3\\lib\\site-packages\\pandas\\core\\generic.py:6702: SettingWithCopyWarning: \n",
      "A value is trying to be set on a copy of a slice from a DataFrame.\n",
      "Try using .loc[row_indexer,col_indexer] = value instead\n",
      "\n",
      "See the caveats in the documentation: http://pandas.pydata.org/pandas-docs/stable/user_guide/indexing.html#returning-a-view-versus-a-copy\n",
      "  regex=regex,\n"
     ]
    }
   ],
   "source": [
    "#Overall error rate, MSE, MAE\n",
    "print ('CART overall error rate: {:.5f}'.format(1-accuracy_score(y_test,y_pred_CART)))\n",
    "print ('Bagging overall error rate: {:.5f}'.format(1-accuracy_score(y_test,y_pred_bag)))\n",
    "print ('Adaboost overall error rate: {:.5f}'.format(1-accuracy_score(y_test,y_pred_ada)))\n",
    "print('\\n')\n",
    "labels = y_test['risk'].astype('category').cat.categories.tolist()\n",
    "replace_map = {'risk':{ k: v for k,v in zip(labels,list(range(0,len(labels)+1)))}}\n",
    "y_test.replace(replace_map, inplace=True)\n",
    "\n",
    "y_pred_CART = [0 if i=='bad loss' else 1 for i in y_pred_CART]\n",
    "y_pred_bag = [0 if i=='bad loss' else 1 for i in y_pred_bag]\n",
    "y_pred_ada = [0 if i=='bad loss' else 1 for i in y_pred_ada]"
   ]
  },
  {
   "cell_type": "code",
   "execution_count": 17,
   "metadata": {},
   "outputs": [
    {
     "name": "stdout",
     "output_type": "stream",
     "text": [
      "CART MSE: 0.08108\n",
      "CART MSE: 0.06757\n",
      "CART MSE: 0.09459\n",
      "\n",
      "\n",
      "CART MAE: 0.08108\n",
      "CART MAE: 0.06757\n",
      "CART MAE: 0.09459\n"
     ]
    }
   ],
   "source": [
    "#Overall error rate, MSE, MAE\n",
    "print('CART MSE: {:.5f}'.format(MSE(y_test,y_pred_CART)))\n",
    "print('CART MSE: {:.5f}'.format(MSE(y_test,y_pred_bag)))\n",
    "print('CART MSE: {:.5f}'.format(MSE(y_test,y_pred_ada)))\n",
    "print('\\n')\n",
    "print('CART MAE: {:.5f}'.format(MAE(y_test,y_pred_CART)))\n",
    "print('CART MAE: {:.5f}'.format(MAE(y_test,y_pred_bag)))\n",
    "print('CART MAE: {:.5f}'.format(MAE(y_test,y_pred_ada)))"
   ]
  },
  {
   "cell_type": "code",
   "execution_count": null,
   "metadata": {},
   "outputs": [],
   "source": []
  }
 ],
 "metadata": {
  "kernelspec": {
   "display_name": "Python 3",
   "language": "python",
   "name": "python3"
  },
  "language_info": {
   "codemirror_mode": {
    "name": "ipython",
    "version": 3
   },
   "file_extension": ".py",
   "mimetype": "text/x-python",
   "name": "python",
   "nbconvert_exporter": "python",
   "pygments_lexer": "ipython3",
   "version": "3.7.1"
  }
 },
 "nbformat": 4,
 "nbformat_minor": 2
}
