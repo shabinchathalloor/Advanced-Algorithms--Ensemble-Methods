{
 "cells": [
  {
   "cell_type": "markdown",
   "metadata": {},
   "source": [
    "This notebook included a small example of Bagging and Boosting with AdaBoost and their comparisons"
   ]
  },
  {
   "cell_type": "markdown",
   "metadata": {},
   "source": [
    "### Import Libraries"
   ]
  },
  {
   "cell_type": "code",
   "execution_count": 1,
   "metadata": {},
   "outputs": [],
   "source": [
    "import numpy as np\n",
    "import pandas as pd\n",
    "import seaborn as sns\n",
    "import matplotlib.pyplot as plt\n",
    "#################################\n",
    "from sklearn.preprocessing import StandardScaler\n",
    "from sklearn.metrics import classification_report, confusion_matrix, accuracy_score\n",
    "from sklearn.metrics import f1_score\n",
    "from sklearn.model_selection import cross_val_score\n",
    "from sklearn.ensemble import RandomForestClassifier, AdaBoostClassifier, BaggingClassifier\n",
    "###################################\n",
    "from sklearn.datasets import load_digits"
   ]
  },
  {
   "cell_type": "markdown",
   "metadata": {},
   "source": [
    "### Load Data"
   ]
  },
  {
   "cell_type": "code",
   "execution_count": 2,
   "metadata": {},
   "outputs": [],
   "source": [
    "data = load_digits()"
   ]
  },
  {
   "cell_type": "code",
   "execution_count": 3,
   "metadata": {},
   "outputs": [],
   "source": [
    "# Define Data\n",
    "x = data.data\n",
    "y = data.target"
   ]
  },
  {
   "cell_type": "code",
   "execution_count": 4,
   "metadata": {},
   "outputs": [
    {
     "name": "stdout",
     "output_type": "stream",
     "text": [
      "X shape : (1797, 64)\n",
      "Y shape : (1797,)\n"
     ]
    }
   ],
   "source": [
    "print(\"X shape : {}\".format(x.shape))\n",
    "print(\"Y shape : {}\".format(y.shape))"
   ]
  },
  {
   "cell_type": "markdown",
   "metadata": {},
   "source": [
    "### Preprocessing"
   ]
  },
  {
   "cell_type": "code",
   "execution_count": 5,
   "metadata": {},
   "outputs": [],
   "source": [
    "# Scale Data\n",
    "scale = StandardScaler()\n",
    "# Fit Data\n",
    "x = scale.fit_transform(x)"
   ]
  },
  {
   "cell_type": "code",
   "execution_count": 6,
   "metadata": {},
   "outputs": [],
   "source": [
    "# Train Test Split\n",
    "from sklearn.model_selection import train_test_split\n",
    "\n",
    "x_train, x_test, y_train, y_test = train_test_split(x, y, random_state=42, test_size=0.33)"
   ]
  },
  {
   "cell_type": "markdown",
   "metadata": {},
   "source": [
    "### Model"
   ]
  },
  {
   "cell_type": "code",
   "execution_count": 7,
   "metadata": {},
   "outputs": [],
   "source": [
    "rfc = RandomForestClassifier(max_depth=4)"
   ]
  },
  {
   "cell_type": "code",
   "execution_count": 8,
   "metadata": {},
   "outputs": [
    {
     "data": {
      "text/plain": [
       "RandomForestClassifier(bootstrap=True, ccp_alpha=0.0, class_weight=None,\n",
       "                       criterion='gini', max_depth=4, max_features='auto',\n",
       "                       max_leaf_nodes=None, max_samples=None,\n",
       "                       min_impurity_decrease=0.0, min_impurity_split=None,\n",
       "                       min_samples_leaf=1, min_samples_split=2,\n",
       "                       min_weight_fraction_leaf=0.0, n_estimators=100,\n",
       "                       n_jobs=None, oob_score=False, random_state=None,\n",
       "                       verbose=0, warm_start=False)"
      ]
     },
     "execution_count": 8,
     "metadata": {},
     "output_type": "execute_result"
    }
   ],
   "source": [
    "rfc.fit(x_train, y_train)"
   ]
  },
  {
   "cell_type": "code",
   "execution_count": 9,
   "metadata": {},
   "outputs": [],
   "source": [
    "# predict data\n",
    "y_pred = rfc.predict(x_test)"
   ]
  },
  {
   "cell_type": "code",
   "execution_count": 10,
   "metadata": {},
   "outputs": [
    {
     "name": "stdout",
     "output_type": "stream",
     "text": [
      "Confusion Matrix :\n",
      "\n",
      "[[54  0  0  0  1  0  0  0  0  0]\n",
      " [ 0 44  4  2  0  1  0  0  0  4]\n",
      " [ 0  0 49  2  0  0  0  0  1  0]\n",
      " [ 0  0  0 53  0  0  0  0  3  0]\n",
      " [ 0  0  0  0 60  0  0  4  0  0]\n",
      " [ 1  0  0  0  1 61  1  0  0  9]\n",
      " [ 1  0  0  0  0  0 56  0  0  0]\n",
      " [ 0  0  0  0  2  0  0 59  0  1]\n",
      " [ 0  3  0  0  0  1  0  0 46  2]\n",
      " [ 0  0  0  2  0  0  0  5  0 61]]\n",
      "\n",
      "Classification Report :\n",
      "\n",
      "              precision    recall  f1-score   support\n",
      "\n",
      "           0       0.96      0.98      0.97        55\n",
      "           1       0.94      0.80      0.86        55\n",
      "           2       0.92      0.94      0.93        52\n",
      "           3       0.90      0.95      0.92        56\n",
      "           4       0.94      0.94      0.94        64\n",
      "           5       0.97      0.84      0.90        73\n",
      "           6       0.98      0.98      0.98        57\n",
      "           7       0.87      0.95      0.91        62\n",
      "           8       0.92      0.88      0.90        52\n",
      "           9       0.79      0.90      0.84        68\n",
      "\n",
      "    accuracy                           0.91       594\n",
      "   macro avg       0.92      0.92      0.92       594\n",
      "weighted avg       0.92      0.91      0.91       594\n",
      "\n",
      "\n",
      "F1 SCORE  : 0.91\n"
     ]
    }
   ],
   "source": [
    "## Confusion Matrix And Classification Report\n",
    "print(\"Confusion Matrix :\\n\")\n",
    "print(confusion_matrix(y_test, y_pred))\n",
    "print()\n",
    "print(\"Classification Report :\\n\")\n",
    "print(classification_report(y_test, y_pred))\n",
    "print()\n",
    "print(\"F1 SCORE  : {0:.2f}\".format(f1_score(y_test, y_pred, average='micro')))"
   ]
  },
  {
   "cell_type": "markdown",
   "metadata": {},
   "source": [
    "### Bagging And Boosting"
   ]
  },
  {
   "cell_type": "code",
   "execution_count": 11,
   "metadata": {},
   "outputs": [],
   "source": [
    "# Define Bagging\n",
    "bg = BaggingClassifier(rfc, n_estimators=20)"
   ]
  },
  {
   "cell_type": "code",
   "execution_count": 12,
   "metadata": {},
   "outputs": [
    {
     "data": {
      "text/plain": [
       "BaggingClassifier(base_estimator=RandomForestClassifier(bootstrap=True,\n",
       "                                                        ccp_alpha=0.0,\n",
       "                                                        class_weight=None,\n",
       "                                                        criterion='gini',\n",
       "                                                        max_depth=4,\n",
       "                                                        max_features='auto',\n",
       "                                                        max_leaf_nodes=None,\n",
       "                                                        max_samples=None,\n",
       "                                                        min_impurity_decrease=0.0,\n",
       "                                                        min_impurity_split=None,\n",
       "                                                        min_samples_leaf=1,\n",
       "                                                        min_samples_split=2,\n",
       "                                                        min_weight_fraction_leaf=0.0,\n",
       "                                                        n_estimators=100,\n",
       "                                                        n_jobs=None,\n",
       "                                                        oob_score=False,\n",
       "                                                        random_state=None,\n",
       "                                                        verbose=0,\n",
       "                                                        warm_start=False),\n",
       "                  bootstrap=True, bootstrap_features=False, max_features=1.0,\n",
       "                  max_samples=1.0, n_estimators=20, n_jobs=None,\n",
       "                  oob_score=False, random_state=None, verbose=0,\n",
       "                  warm_start=False)"
      ]
     },
     "execution_count": 12,
     "metadata": {},
     "output_type": "execute_result"
    }
   ],
   "source": [
    "bg.fit(x_train, y_train)"
   ]
  },
  {
   "cell_type": "code",
   "execution_count": 13,
   "metadata": {},
   "outputs": [],
   "source": [
    "# Predict Data\n",
    "bg_pred = bg.predict(x_test)"
   ]
  },
  {
   "cell_type": "code",
   "execution_count": 14,
   "metadata": {},
   "outputs": [
    {
     "name": "stdout",
     "output_type": "stream",
     "text": [
      "Confusion Matrix :\n",
      "\n",
      "[[54  0  0  0  1  0  0  0  0  0]\n",
      " [ 0 47  5  0  0  1  0  0  0  2]\n",
      " [ 0  0 51  1  0  0  0  0  0  0]\n",
      " [ 0  0  0 52  0  1  0  0  3  0]\n",
      " [ 0  0  0  0 62  0  0  2  0  0]\n",
      " [ 0  0  0  0  2 64  1  0  0  6]\n",
      " [ 1  0  0  0  0  0 56  0  0  0]\n",
      " [ 0  0  0  0  0  0  0 61  0  1]\n",
      " [ 0  3  0  0  0  1  0  1 46  1]\n",
      " [ 0  0  0  1  1  1  0  4  0 61]]\n",
      "\n",
      "Classification Report :\n",
      "\n",
      "\n",
      "              precision    recall  f1-score   support\n",
      "\n",
      "           0       0.98      0.98      0.98        55\n",
      "           1       0.94      0.85      0.90        55\n",
      "           2       0.91      0.98      0.94        52\n",
      "           3       0.96      0.93      0.95        56\n",
      "           4       0.94      0.97      0.95        64\n",
      "           5       0.94      0.88      0.91        73\n",
      "           6       0.98      0.98      0.98        57\n",
      "           7       0.90      0.98      0.94        62\n",
      "           8       0.94      0.88      0.91        52\n",
      "           9       0.86      0.90      0.88        68\n",
      "\n",
      "    accuracy                           0.93       594\n",
      "   macro avg       0.94      0.93      0.93       594\n",
      "weighted avg       0.93      0.93      0.93       594\n",
      "\n",
      "F1 SCORE  : 0.93\n",
      "\n",
      "\n",
      "     Accuracy in  RandomForest Classifier => 0.83 \n",
      "     Accuracy in  Bagging      Classifier => 0.93\n",
      "\n",
      "\n",
      "\n"
     ]
    }
   ],
   "source": [
    "## Confusion Matrix And Classification Report\n",
    "print(\"Confusion Matrix :\\n\")\n",
    "print(confusion_matrix(y_test, bg_pred))\n",
    "print()\n",
    "print(\"Classification Report :\\n\")\n",
    "print()\n",
    "print(classification_report(y_test, bg_pred))\n",
    "print(\"F1 SCORE  : {0:.2f}\".format(f1_score(y_test, bg_pred, average='micro')))\n",
    "\n",
    "\n",
    "\n",
    "print(\"\"\"\n",
    "\n",
    "     Accuracy in  RandomForest Classifier => 0.83 \n",
    "     Accuracy in  Bagging      Classifier => 0.93\n",
    "\n",
    "\n",
    "\"\"\")\n"
   ]
  },
  {
   "cell_type": "markdown",
   "metadata": {},
   "source": [
    "### Boosting"
   ]
  },
  {
   "cell_type": "code",
   "execution_count": 15,
   "metadata": {},
   "outputs": [],
   "source": [
    "# Define Boosting\n",
    "bs = AdaBoostClassifier(bg, n_estimators=50)"
   ]
  },
  {
   "cell_type": "code",
   "execution_count": 16,
   "metadata": {},
   "outputs": [
    {
     "data": {
      "text/plain": [
       "AdaBoostClassifier(algorithm='SAMME.R',\n",
       "                   base_estimator=BaggingClassifier(base_estimator=RandomForestClassifier(bootstrap=True,\n",
       "                                                                                          ccp_alpha=0.0,\n",
       "                                                                                          class_weight=None,\n",
       "                                                                                          criterion='gini',\n",
       "                                                                                          max_depth=4,\n",
       "                                                                                          max_features='auto',\n",
       "                                                                                          max_leaf_nodes=None,\n",
       "                                                                                          max_samples=None,\n",
       "                                                                                          min_impurity_decrease=0.0,\n",
       "                                                                                          min_impurity_split=None,\n",
       "                                                                                          min_samples_leaf=1,\n",
       "                                                                                          min_samples_split=2,\n",
       "                                                                                          min_weight_fraction_leaf=0.0,\n",
       "                                                                                          n_estimators=100,\n",
       "                                                                                          n_jobs=None,\n",
       "                                                                                          oob_score=False,\n",
       "                                                                                          random_state=None,\n",
       "                                                                                          verbose=0,\n",
       "                                                                                          warm_start=False),\n",
       "                                                    bootstrap=True,\n",
       "                                                    bootstrap_features=False,\n",
       "                                                    max_features=1.0,\n",
       "                                                    max_samples=1.0,\n",
       "                                                    n_estimators=20,\n",
       "                                                    n_jobs=None,\n",
       "                                                    oob_score=False,\n",
       "                                                    random_state=None,\n",
       "                                                    verbose=0,\n",
       "                                                    warm_start=False),\n",
       "                   learning_rate=1.0, n_estimators=50, random_state=None)"
      ]
     },
     "execution_count": 16,
     "metadata": {},
     "output_type": "execute_result"
    }
   ],
   "source": [
    "# Fit Data\n",
    "bs.fit(x_train, y_train)"
   ]
  },
  {
   "cell_type": "code",
   "execution_count": 17,
   "metadata": {},
   "outputs": [],
   "source": [
    "# predict data\n",
    "bs_pred = bs.predict(x_test)"
   ]
  },
  {
   "cell_type": "code",
   "execution_count": 18,
   "metadata": {},
   "outputs": [
    {
     "name": "stdout",
     "output_type": "stream",
     "text": [
      "Confusion Matrix :\n",
      "\n",
      "[[55  0  0  0  0  0  0  0  0  0]\n",
      " [ 0 54  0  0  0  0  0  0  0  1]\n",
      " [ 0  0 50  0  0  0  0  0  2  0]\n",
      " [ 0  0  0 51  0  1  0  0  4  0]\n",
      " [ 0  0  0  0 64  0  0  0  0  0]\n",
      " [ 0  0  0  0  1 69  1  0  0  2]\n",
      " [ 0  0  0  0  0  1 56  0  0  0]\n",
      " [ 0  0  0  0  0  0  0 61  0  1]\n",
      " [ 0  0  0  0  0  1  0  0 51  0]\n",
      " [ 0  0  0  0  0  1  0  0  3 64]]\n",
      "\n",
      "Classification Report :\n",
      "\n",
      "              precision    recall  f1-score   support\n",
      "\n",
      "           0       1.00      1.00      1.00        55\n",
      "           1       1.00      0.98      0.99        55\n",
      "           2       1.00      0.96      0.98        52\n",
      "           3       1.00      0.91      0.95        56\n",
      "           4       0.98      1.00      0.99        64\n",
      "           5       0.95      0.95      0.95        73\n",
      "           6       0.98      0.98      0.98        57\n",
      "           7       1.00      0.98      0.99        62\n",
      "           8       0.85      0.98      0.91        52\n",
      "           9       0.94      0.94      0.94        68\n",
      "\n",
      "    accuracy                           0.97       594\n",
      "   macro avg       0.97      0.97      0.97       594\n",
      "weighted avg       0.97      0.97      0.97       594\n",
      "\n",
      "F1 SCORE  : 0.97\n",
      "\n",
      "\n",
      "     Accuracy in  RandomForest Classifier => 0.83 \n",
      "     Accuracy in  Bagging Classifier      => 0.93\n",
      "     Accuracy in  AdaBoostClassifier      => 0.97\n",
      "\n",
      "\n",
      "\n"
     ]
    }
   ],
   "source": [
    "## Confusion Matrix And Classification Report\n",
    "print(\"Confusion Matrix :\\n\")\n",
    "print(confusion_matrix(y_test, bs_pred))\n",
    "print()\n",
    "print(\"Classification Report :\\n\")\n",
    "print(classification_report(y_test, bs_pred))\n",
    "print(\"F1 SCORE  : {0:.2f}\".format(f1_score(y_test, bs_pred, average='micro')))\n",
    "\n",
    "print(\"\"\"\n",
    "\n",
    "     Accuracy in  RandomForest Classifier => 0.83 \n",
    "     Accuracy in  Bagging Classifier      => 0.93\n",
    "     Accuracy in  AdaBoostClassifier      => 0.97\n",
    "\n",
    "\n",
    "\"\"\")"
   ]
  },
  {
   "cell_type": "code",
   "execution_count": null,
   "metadata": {},
   "outputs": [],
   "source": []
  }
 ],
 "metadata": {
  "kernelspec": {
   "display_name": "Python 3",
   "language": "python",
   "name": "python3"
  },
  "language_info": {
   "codemirror_mode": {
    "name": "ipython",
    "version": 3
   },
   "file_extension": ".py",
   "mimetype": "text/x-python",
   "name": "python",
   "nbconvert_exporter": "python",
   "pygments_lexer": "ipython3",
   "version": "3.7.1"
  }
 },
 "nbformat": 4,
 "nbformat_minor": 2
}
