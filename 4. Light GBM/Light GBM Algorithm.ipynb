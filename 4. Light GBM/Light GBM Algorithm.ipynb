{
 "cells": [
  {
   "cell_type": "code",
   "execution_count": 5,
   "metadata": {},
   "outputs": [],
   "source": [
    "# reference: https://github.com/Microsoft/LightGBM/blob/master/examples/python-guide/simple_example.py"
   ]
  },
  {
   "cell_type": "code",
   "execution_count": 10,
   "metadata": {},
   "outputs": [],
   "source": [
    "#import required libraries\n",
    "import lightgbm as lgb\n",
    "import pandas as pd\n",
    "from sklearn.metrics import mean_squared_error"
   ]
  },
  {
   "cell_type": "code",
   "execution_count": 11,
   "metadata": {},
   "outputs": [
    {
     "name": "stdout",
     "output_type": "stream",
     "text": [
      "Loading data...\n"
     ]
    }
   ],
   "source": [
    "print('Loading data...')\n",
    "# load or create your dataset\n",
    "df_train = pd.read_csv('data/regressor/regression_train.csv', header=None, sep='\\t')\n",
    "df_test = pd.read_csv('data/regressor/regression_test.csv', header=None, sep='\\t')"
   ]
  },
  {
   "cell_type": "code",
   "execution_count": 12,
   "metadata": {},
   "outputs": [],
   "source": [
    "y_train = df_train[0]\n",
    "y_test = df_test[0]\n",
    "X_train = df_train.drop(0, axis=1)\n",
    "X_test = df_test.drop(0, axis=1)"
   ]
  },
  {
   "cell_type": "code",
   "execution_count": 13,
   "metadata": {},
   "outputs": [],
   "source": [
    "# create dataset for lightgbm\n",
    "lgb_train = lgb.Dataset(X_train, y_train)\n",
    "lgb_eval = lgb.Dataset(X_test, y_test, reference=lgb_train)"
   ]
  },
  {
   "cell_type": "code",
   "execution_count": 14,
   "metadata": {},
   "outputs": [],
   "source": [
    "# specify your configurations as a dict\n",
    "params = {\n",
    "    'boosting_type': 'gbdt',\n",
    "    'objective': 'regression',\n",
    "    'metric': {'l2', 'l1'},\n",
    "    'num_leaves': 31,\n",
    "    'learning_rate': 0.05,\n",
    "    'feature_fraction': 0.9,\n",
    "    'bagging_fraction': 0.8,\n",
    "    'bagging_freq': 5,\n",
    "    'verbose': 0\n",
    "}\n"
   ]
  },
  {
   "cell_type": "code",
   "execution_count": 15,
   "metadata": {},
   "outputs": [
    {
     "name": "stdout",
     "output_type": "stream",
     "text": [
      "Starting training...\n",
      "[1]\tvalid_0's l1: 0.492841\tvalid_0's l2: 0.243898\n",
      "Training until validation scores don't improve for 5 rounds\n",
      "[2]\tvalid_0's l1: 0.489327\tvalid_0's l2: 0.240605\n",
      "[3]\tvalid_0's l1: 0.484931\tvalid_0's l2: 0.236472\n",
      "[4]\tvalid_0's l1: 0.480567\tvalid_0's l2: 0.232586\n",
      "[5]\tvalid_0's l1: 0.475965\tvalid_0's l2: 0.22865\n",
      "[6]\tvalid_0's l1: 0.472861\tvalid_0's l2: 0.226187\n",
      "[7]\tvalid_0's l1: 0.469847\tvalid_0's l2: 0.223738\n",
      "[8]\tvalid_0's l1: 0.466258\tvalid_0's l2: 0.221012\n",
      "[9]\tvalid_0's l1: 0.462751\tvalid_0's l2: 0.218429\n",
      "[10]\tvalid_0's l1: 0.458755\tvalid_0's l2: 0.215505\n",
      "[11]\tvalid_0's l1: 0.455252\tvalid_0's l2: 0.213027\n",
      "[12]\tvalid_0's l1: 0.452051\tvalid_0's l2: 0.210809\n",
      "[13]\tvalid_0's l1: 0.448764\tvalid_0's l2: 0.208612\n",
      "[14]\tvalid_0's l1: 0.446667\tvalid_0's l2: 0.207468\n",
      "[15]\tvalid_0's l1: 0.444211\tvalid_0's l2: 0.206009\n",
      "[16]\tvalid_0's l1: 0.44186\tvalid_0's l2: 0.20465\n",
      "[17]\tvalid_0's l1: 0.438508\tvalid_0's l2: 0.202489\n",
      "[18]\tvalid_0's l1: 0.435919\tvalid_0's l2: 0.200668\n",
      "[19]\tvalid_0's l1: 0.433348\tvalid_0's l2: 0.19925\n",
      "[20]\tvalid_0's l1: 0.431211\tvalid_0's l2: 0.198136\n",
      "Did not meet early stopping. Best iteration is:\n",
      "[20]\tvalid_0's l1: 0.431211\tvalid_0's l2: 0.198136\n"
     ]
    }
   ],
   "source": [
    "#training\n",
    "print('Starting training...')\n",
    "gbm = lgb.train(params,\n",
    "                lgb_train,\n",
    "                num_boost_round=20,\n",
    "                valid_sets=lgb_eval,\n",
    "                early_stopping_rounds=5)"
   ]
  },
  {
   "cell_type": "code",
   "execution_count": 16,
   "metadata": {},
   "outputs": [
    {
     "name": "stdout",
     "output_type": "stream",
     "text": [
      "Starting predicting...\n",
      "The rmse of prediction is: 0.44512434910807497\n"
     ]
    }
   ],
   "source": [
    "#prediction\n",
    "print('Starting predicting...')\n",
    "y_pred = gbm.predict(X_test, num_iteration=gbm.best_iteration)\n",
    "# evaluation\n",
    "print('The rmse of prediction is:', mean_squared_error(y_test, y_pred) ** 0.5)"
   ]
  },
  {
   "cell_type": "code",
   "execution_count": null,
   "metadata": {},
   "outputs": [],
   "source": []
  }
 ],
 "metadata": {
  "kernelspec": {
   "display_name": "Python 3",
   "language": "python",
   "name": "python3"
  },
  "language_info": {
   "codemirror_mode": {
    "name": "ipython",
    "version": 3
   },
   "file_extension": ".py",
   "mimetype": "text/x-python",
   "name": "python",
   "nbconvert_exporter": "python",
   "pygments_lexer": "ipython3",
   "version": "3.7.1"
  }
 },
 "nbformat": 4,
 "nbformat_minor": 2
}
